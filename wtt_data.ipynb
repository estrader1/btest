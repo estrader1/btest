{
 "cells": [
  {
   "cell_type": "code",
   "execution_count": 1,
   "id": "d7598bee-03ca-43e2-ba47-6dd39505fe00",
   "metadata": {},
   "outputs": [],
   "source": [
    "import pandas as pd"
   ]
  },
  {
   "cell_type": "code",
   "execution_count": 2,
   "id": "d7b70970-94fb-4f2c-8dd3-0ff2b8ea04dd",
   "metadata": {},
   "outputs": [],
   "source": [
    "import numpy as np"
   ]
  },
  {
   "cell_type": "markdown",
   "id": "50f94f64-949e-4a10-a87f-b1184dd83dc5",
   "metadata": {},
   "source": [
    "### ready data"
   ]
  },
  {
   "cell_type": "markdown",
   "id": "4ed0efa3-2155-4154-85ae-3a46e4894cd9",
   "metadata": {
    "jp-MarkdownHeadingCollapsed": true,
    "tags": []
   },
   "source": [
    "#### cleanup data\n"
   ]
  },
  {
   "cell_type": "markdown",
   "id": "2ebf71b5-5eda-4ef1-bd85-ca0a58bf1caa",
   "metadata": {},
   "source": [
    "##### get spx data"
   ]
  },
  {
   "cell_type": "code",
   "execution_count": 70,
   "id": "ef39ba3f-193e-45b2-8b3e-a080466a5487",
   "metadata": {},
   "outputs": [],
   "source": [
    "spx = pd.read_csv('idx.csv',parse_dates = ['DATE'])\\\n",
    ".drop(columns = 'Unnamed: 0').set_index(['ID','DATE'])\\\n",
    ".sort_index().dropna(subset = 'close')\\\n",
    ".xs('SPX Index', level = 'ID')"
   ]
  },
  {
   "cell_type": "code",
   "execution_count": 73,
   "id": "10cb2a0b-b9f6-4c94-9ff6-c2b67860a0e3",
   "metadata": {},
   "outputs": [],
   "source": [
    "spxw = spx.resample('W').agg({\n",
    "    'open': 'first',\n",
    "    'high': 'max',\n",
    "    'low': 'min',\n",
    "    'close': 'last',\n",
    "    'volume': 'sum'\n",
    "    })"
   ]
  },
  {
   "cell_type": "code",
   "execution_count": 75,
   "id": "326b78e0-0154-43ec-8b9c-7981887a838e",
   "metadata": {},
   "outputs": [],
   "source": [
    "spxw['ma10'] = spxw['close'].rolling(10).mean()"
   ]
  },
  {
   "cell_type": "code",
   "execution_count": null,
   "id": "fe49526a-e015-44ab-826f-8e5aff677a64",
   "metadata": {},
   "outputs": [],
   "source": []
  },
  {
   "cell_type": "markdown",
   "id": "fc085fe5-c428-4e26-b947-57b326314e4f",
   "metadata": {},
   "source": [
    "##### get universe data"
   ]
  },
  {
   "cell_type": "code",
   "execution_count": 57,
   "id": "680d2ceb-bf1b-4672-9606-8a7d39591a4c",
   "metadata": {},
   "outputs": [],
   "source": [
    "df = pd.read_csv('rty_2014.csv', parse_dates = ['DATE']).drop(columns = 'Unnamed: 0').set_index(['ID','DATE']).sort_index()\n",
    "\n",
    "df = df[~df.index.duplicated()]\n",
    "\n",
    "df = df.dropna(subset = ['close'])"
   ]
  },
  {
   "cell_type": "markdown",
   "id": "864cb514-7728-447a-b26d-42cc9ed510da",
   "metadata": {},
   "source": [
    "#### run checks, how many tickers, how many months per year"
   ]
  },
  {
   "cell_type": "markdown",
   "id": "a59d0217-df03-47ca-bec9-a4930e3092d2",
   "metadata": {},
   "source": [
    "#### calculate daily stats - adv, turnover"
   ]
  },
  {
   "cell_type": "code",
   "execution_count": 58,
   "id": "1955ab1e-b894-4a8e-ae9e-700888876301",
   "metadata": {},
   "outputs": [],
   "source": [
    "df['adv20']  = df.groupby(['ID']).apply(lambda x: x['volume'].rolling(20).mean()).reset_index(level = 0, drop = True).rename('adv20')"
   ]
  },
  {
   "cell_type": "code",
   "execution_count": 59,
   "id": "b1fc08ed-41df-40a7-8072-a56027858e83",
   "metadata": {},
   "outputs": [],
   "source": [
    "df['turnover'] = df['volume']*df['close']"
   ]
  },
  {
   "cell_type": "code",
   "execution_count": 60,
   "id": "e821b28e-3dc8-4491-bbe6-1569142bcad6",
   "metadata": {},
   "outputs": [],
   "source": [
    "df['turnover20']  = df.groupby(['ID']).apply(lambda x: x['turnover'].rolling(20).mean()).reset_index(level = 0, drop = True).rename('turnover20')"
   ]
  },
  {
   "cell_type": "code",
   "execution_count": 61,
   "id": "18202d02-e231-458c-84fc-9df1f4ea2dbe",
   "metadata": {},
   "outputs": [],
   "source": [
    "df['bapct'] = df['baspd']/df['close']"
   ]
  },
  {
   "cell_type": "code",
   "execution_count": 62,
   "id": "d16abcab-114d-4e24-a397-bc14f528376c",
   "metadata": {},
   "outputs": [],
   "source": [
    "df = df.reset_index(level = 'ID')"
   ]
  },
  {
   "cell_type": "markdown",
   "id": "92c965df-30d9-413e-ae8c-29ad3060e72f",
   "metadata": {},
   "source": [
    "#### resample weekly"
   ]
  },
  {
   "cell_type": "code",
   "execution_count": 64,
   "id": "df0fa2be-a408-4349-869b-4b722afc65d2",
   "metadata": {},
   "outputs": [],
   "source": [
    "weekly_df = df.groupby('ID').resample('W').agg({\n",
    "    'open': 'first',\n",
    "    'high': 'max',\n",
    "    'low': 'min',\n",
    "    'close': 'last',\n",
    "    'volume': 'sum',\n",
    "    'market_cap':'last',\n",
    "    'bid':'last',\n",
    "    'ask':'last',\n",
    "    'baspd':'last',\n",
    "    'adv20':'last',\n",
    "    'turnover':'last',\n",
    "    'turnover20':'last',\n",
    "    'bapct':'last'\n",
    "    \n",
    "})"
   ]
  },
  {
   "cell_type": "markdown",
   "id": "febc6a0c-75e6-4b5e-aa34-abff246637fd",
   "metadata": {},
   "source": [
    "#### calculate weekly stats"
   ]
  },
  {
   "cell_type": "code",
   "execution_count": 77,
   "id": "f370428b-2a81-45dc-b8e6-c0f6450f1c13",
   "metadata": {},
   "outputs": [],
   "source": [
    "# weekly stats not needed as of now, going to do it in backtrader"
   ]
  },
  {
   "cell_type": "code",
   "execution_count": 78,
   "id": "b2c5b4c6-98eb-4adf-9085-5d14e8fd9ca4",
   "metadata": {},
   "outputs": [
    {
     "data": {
      "text/html": [
       "<div>\n",
       "<style scoped>\n",
       "    .dataframe tbody tr th:only-of-type {\n",
       "        vertical-align: middle;\n",
       "    }\n",
       "\n",
       "    .dataframe tbody tr th {\n",
       "        vertical-align: top;\n",
       "    }\n",
       "\n",
       "    .dataframe thead th {\n",
       "        text-align: right;\n",
       "    }\n",
       "</style>\n",
       "<table border=\"1\" class=\"dataframe\">\n",
       "  <thead>\n",
       "    <tr style=\"text-align: right;\">\n",
       "      <th></th>\n",
       "      <th></th>\n",
       "      <th>open</th>\n",
       "      <th>high</th>\n",
       "      <th>low</th>\n",
       "      <th>close</th>\n",
       "      <th>volume</th>\n",
       "      <th>market_cap</th>\n",
       "      <th>bid</th>\n",
       "      <th>ask</th>\n",
       "      <th>baspd</th>\n",
       "      <th>adv20</th>\n",
       "      <th>turnover</th>\n",
       "      <th>turnover20</th>\n",
       "      <th>bapct</th>\n",
       "    </tr>\n",
       "    <tr>\n",
       "      <th>ID</th>\n",
       "      <th>DATE</th>\n",
       "      <th></th>\n",
       "      <th></th>\n",
       "      <th></th>\n",
       "      <th></th>\n",
       "      <th></th>\n",
       "      <th></th>\n",
       "      <th></th>\n",
       "      <th></th>\n",
       "      <th></th>\n",
       "      <th></th>\n",
       "      <th></th>\n",
       "      <th></th>\n",
       "      <th></th>\n",
       "    </tr>\n",
       "  </thead>\n",
       "  <tbody>\n",
       "    <tr>\n",
       "      <th rowspan=\"5\" valign=\"top\">ZYXI UW Equity</th>\n",
       "      <th>2025-01-12</th>\n",
       "      <td>8.09</td>\n",
       "      <td>8.24</td>\n",
       "      <td>7.77</td>\n",
       "      <td>7.83</td>\n",
       "      <td>78710.0</td>\n",
       "      <td>249350624.0</td>\n",
       "      <td>7.83</td>\n",
       "      <td>7.85</td>\n",
       "      <td>0.049796</td>\n",
       "      <td>33683.45</td>\n",
       "      <td>178249.95</td>\n",
       "      <td>275413.3735</td>\n",
       "      <td>0.006360</td>\n",
       "    </tr>\n",
       "    <tr>\n",
       "      <th>2025-01-19</th>\n",
       "      <td>7.85</td>\n",
       "      <td>8.00</td>\n",
       "      <td>7.50</td>\n",
       "      <td>7.68</td>\n",
       "      <td>139495.0</td>\n",
       "      <td>244573792.0</td>\n",
       "      <td>7.66</td>\n",
       "      <td>7.68</td>\n",
       "      <td>0.042845</td>\n",
       "      <td>34758.35</td>\n",
       "      <td>253839.36</td>\n",
       "      <td>280428.3555</td>\n",
       "      <td>0.005579</td>\n",
       "    </tr>\n",
       "    <tr>\n",
       "      <th>2025-01-26</th>\n",
       "      <td>7.76</td>\n",
       "      <td>8.42</td>\n",
       "      <td>7.75</td>\n",
       "      <td>8.36</td>\n",
       "      <td>92701.0</td>\n",
       "      <td>266228752.0</td>\n",
       "      <td>8.35</td>\n",
       "      <td>8.36</td>\n",
       "      <td>0.042235</td>\n",
       "      <td>24697.15</td>\n",
       "      <td>198290.84</td>\n",
       "      <td>197375.9355</td>\n",
       "      <td>0.005052</td>\n",
       "    </tr>\n",
       "    <tr>\n",
       "      <th>2025-02-02</th>\n",
       "      <td>8.29</td>\n",
       "      <td>8.45</td>\n",
       "      <td>7.72</td>\n",
       "      <td>7.84</td>\n",
       "      <td>87519.0</td>\n",
       "      <td>249669072.0</td>\n",
       "      <td>7.83</td>\n",
       "      <td>7.84</td>\n",
       "      <td>0.058212</td>\n",
       "      <td>22883.70</td>\n",
       "      <td>248339.84</td>\n",
       "      <td>182215.6025</td>\n",
       "      <td>0.007425</td>\n",
       "    </tr>\n",
       "    <tr>\n",
       "      <th>2025-02-09</th>\n",
       "      <td>7.72</td>\n",
       "      <td>8.10</td>\n",
       "      <td>7.30</td>\n",
       "      <td>7.66</td>\n",
       "      <td>129961.0</td>\n",
       "      <td>243936864.0</td>\n",
       "      <td>7.59</td>\n",
       "      <td>7.67</td>\n",
       "      <td>0.077548</td>\n",
       "      <td>23622.05</td>\n",
       "      <td>496705.04</td>\n",
       "      <td>186850.0955</td>\n",
       "      <td>0.010124</td>\n",
       "    </tr>\n",
       "  </tbody>\n",
       "</table>\n",
       "</div>"
      ],
      "text/plain": [
       "                           open  high   low  close    volume   market_cap  \\\n",
       "ID             DATE                                                         \n",
       "ZYXI UW Equity 2025-01-12  8.09  8.24  7.77   7.83   78710.0  249350624.0   \n",
       "               2025-01-19  7.85  8.00  7.50   7.68  139495.0  244573792.0   \n",
       "               2025-01-26  7.76  8.42  7.75   8.36   92701.0  266228752.0   \n",
       "               2025-02-02  8.29  8.45  7.72   7.84   87519.0  249669072.0   \n",
       "               2025-02-09  7.72  8.10  7.30   7.66  129961.0  243936864.0   \n",
       "\n",
       "                            bid   ask     baspd     adv20   turnover  \\\n",
       "ID             DATE                                                    \n",
       "ZYXI UW Equity 2025-01-12  7.83  7.85  0.049796  33683.45  178249.95   \n",
       "               2025-01-19  7.66  7.68  0.042845  34758.35  253839.36   \n",
       "               2025-01-26  8.35  8.36  0.042235  24697.15  198290.84   \n",
       "               2025-02-02  7.83  7.84  0.058212  22883.70  248339.84   \n",
       "               2025-02-09  7.59  7.67  0.077548  23622.05  496705.04   \n",
       "\n",
       "                            turnover20     bapct  \n",
       "ID             DATE                               \n",
       "ZYXI UW Equity 2025-01-12  275413.3735  0.006360  \n",
       "               2025-01-19  280428.3555  0.005579  \n",
       "               2025-01-26  197375.9355  0.005052  \n",
       "               2025-02-02  182215.6025  0.007425  \n",
       "               2025-02-09  186850.0955  0.010124  "
      ]
     },
     "execution_count": 78,
     "metadata": {},
     "output_type": "execute_result"
    }
   ],
   "source": [
    "weekly_df.tail()"
   ]
  },
  {
   "cell_type": "code",
   "execution_count": 83,
   "id": "4bb9865c-3e15-4b39-959e-768b9200c807",
   "metadata": {},
   "outputs": [],
   "source": [
    "spxw.to_csv('spxw.csv')"
   ]
  },
  {
   "cell_type": "code",
   "execution_count": 84,
   "id": "71506169-691c-45b3-8bd3-5ee7d9687719",
   "metadata": {},
   "outputs": [],
   "source": [
    "weekly_df.to_csv('weeklyr2k.csv')"
   ]
  }
 ],
 "metadata": {
  "kernelspec": {
   "display_name": "Python 3 (ipykernel)",
   "language": "python",
   "name": "python3"
  },
  "language_info": {
   "codemirror_mode": {
    "name": "ipython",
    "version": 3
   },
   "file_extension": ".py",
   "mimetype": "text/x-python",
   "name": "python",
   "nbconvert_exporter": "python",
   "pygments_lexer": "ipython3",
   "version": "3.8.16"
  }
 },
 "nbformat": 4,
 "nbformat_minor": 5
}
