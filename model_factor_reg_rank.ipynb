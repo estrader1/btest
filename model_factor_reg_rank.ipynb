{
 "cells": [
  {
   "cell_type": "markdown",
   "id": "84b4f2f1-2832-4cf8-be45-39c5003f8abf",
   "metadata": {},
   "source": [
    "### read data and calc returns"
   ]
  },
  {
   "cell_type": "code",
   "execution_count": 94,
   "id": "a6926e8f",
   "metadata": {},
   "outputs": [],
   "source": [
    "import pandas as pd\n",
    "import numpy as np"
   ]
  },
  {
   "cell_type": "code",
   "execution_count": 124,
   "id": "f8a72fe8",
   "metadata": {},
   "outputs": [],
   "source": [
    "df = pd.read_csv('data_analytics_univ_rty_2014_m.csv', parse_dates = ['DATE'])"
   ]
  },
  {
   "cell_type": "code",
   "execution_count": 126,
   "id": "7c6fe0b3",
   "metadata": {},
   "outputs": [
    {
     "data": {
      "text/plain": [
       "['ID',\n",
       " 'DATE',\n",
       " 'open',\n",
       " 'high',\n",
       " 'low',\n",
       " 'close',\n",
       " 'volume',\n",
       " 'market_cap',\n",
       " 'bid',\n",
       " 'ask',\n",
       " 'baspd',\n",
       " 'idx_close',\n",
       " 'stock_return',\n",
       " 'idx_return',\n",
       " 'stock_excess_return',\n",
       " 'beta',\n",
       " 'volatility',\n",
       " 'avg_volm_to_cap',\n",
       " 'volume_trend',\n",
       " 'residual_variance',\n",
       " 'stock_return_1m',\n",
       " 'idx_return_1m',\n",
       " 'rs_1m',\n",
       " 'stock_return_2m',\n",
       " 'idx_return_2m',\n",
       " 'rs_2m',\n",
       " 'stock_return_3m',\n",
       " 'idx_return_3m',\n",
       " 'rs_3m',\n",
       " 'stock_return_6m',\n",
       " 'idx_return_6m',\n",
       " 'rs_6m',\n",
       " 'stock_return_12m',\n",
       " 'idx_return_12m',\n",
       " 'rs_12m',\n",
       " '3mrs_3mago',\n",
       " '3mrs_6mago',\n",
       " '3mrs_9mago',\n",
       " 'forward_return',\n",
       " 'idx_forward_return',\n",
       " 'relative_return']"
      ]
     },
     "execution_count": 126,
     "metadata": {},
     "output_type": "execute_result"
    }
   ],
   "source": [
    "df.columns.tolist()"
   ]
  },
  {
   "cell_type": "code",
   "execution_count": 127,
   "id": "383b59fe",
   "metadata": {},
   "outputs": [],
   "source": [
    "drop_cols = [ c for c in df.columns if 'idx_return' in c ]\n",
    "\n",
    "\n",
    "drop_cols1 = ['open',\n",
    " 'high',\n",
    " 'low',\n",
    " 'close',\n",
    " 'volume',\n",
    " 'bid',\n",
    " 'ask',\n",
    " 'baspd',\n",
    " 'idx_close',\n",
    " 'forward_return',\n",
    " 'idx_forward_return',\n",
    " 'relative_return',\n",
    " 'stock_excess_return']\n",
    "\n",
    "drop_cols1 = [ c for c in drop_cols1 if c in df.columns.tolist() ]"
   ]
  },
  {
   "cell_type": "code",
   "execution_count": 128,
   "id": "fc42bd98",
   "metadata": {},
   "outputs": [],
   "source": [
    "\n",
    "df = df.drop(columns = (drop_cols + drop_cols1))"
   ]
  },
  {
   "cell_type": "code",
   "execution_count": 129,
   "id": "bb67bdee",
   "metadata": {},
   "outputs": [],
   "source": [
    "# stats and returns are as of given date\n",
    "# so either shift returns up, or stats down to do regression on returns vs stats as of beginning of returns period \n",
    "# lets shift stats down to align with returns end date"
   ]
  },
  {
   "cell_type": "code",
   "execution_count": 130,
   "id": "c7b329cf",
   "metadata": {},
   "outputs": [
    {
     "data": {
      "text/plain": [
       "['ID',\n",
       " 'DATE',\n",
       " 'market_cap',\n",
       " 'stock_return',\n",
       " 'beta',\n",
       " 'volatility',\n",
       " 'avg_volm_to_cap',\n",
       " 'volume_trend',\n",
       " 'residual_variance',\n",
       " 'stock_return_1m',\n",
       " 'rs_1m',\n",
       " 'stock_return_2m',\n",
       " 'rs_2m',\n",
       " 'stock_return_3m',\n",
       " 'rs_3m',\n",
       " 'stock_return_6m',\n",
       " 'rs_6m',\n",
       " 'stock_return_12m',\n",
       " 'rs_12m',\n",
       " '3mrs_3mago',\n",
       " '3mrs_6mago',\n",
       " '3mrs_9mago']"
      ]
     },
     "execution_count": 130,
     "metadata": {},
     "output_type": "execute_result"
    }
   ],
   "source": [
    "# shift down everything except ID, DATE, stock_return \n",
    "df.columns.tolist()"
   ]
  },
  {
   "cell_type": "code",
   "execution_count": 131,
   "id": "514f16f6",
   "metadata": {},
   "outputs": [],
   "source": [
    "shift_cols = [ c for c in df.columns if c not in ['ID', 'DATE', 'stock_return'] ]"
   ]
  },
  {
   "cell_type": "code",
   "execution_count": 132,
   "id": "5b008f19",
   "metadata": {},
   "outputs": [],
   "source": [
    "df[shift_cols] = df.groupby('ID')[shift_cols].shift(1)"
   ]
  },
  {
   "cell_type": "markdown",
   "id": "01dfed4a-6c12-4b5a-bd76-a7108179e09f",
   "metadata": {},
   "source": [
    "### functions - rolling reg / var"
   ]
  },
  {
   "cell_type": "markdown",
   "id": "2033c2a9-5a5f-453c-8db9-f4b21374fd76",
   "metadata": {},
   "source": [
    "### calculate simple returns "
   ]
  },
  {
   "cell_type": "code",
   "execution_count": 133,
   "id": "16e6a3c4",
   "metadata": {},
   "outputs": [],
   "source": [
    "df = df.sort_values(['DATE','ID'])"
   ]
  },
  {
   "cell_type": "code",
   "execution_count": 134,
   "id": "5f260bde",
   "metadata": {},
   "outputs": [],
   "source": [
    "first_dates = df.apply(lambda x: x.first_valid_index())\n",
    "\n",
    "first_dates = first_dates.rename('first_idx').to_frame()\n",
    "value_columns = df.columns.difference(['ID', 'DATE'])\n",
    "\n",
    "# For each column\n",
    "dseries = pd.DataFrame()\n",
    "for column in value_columns:\n",
    "    first_date = df[df[column].notna()]['DATE'].min()\n",
    "    last_date = df[df[column].notna()]['DATE'].max()\n",
    "    first_dates.loc[column,'first_date'] = first_date\n",
    "    first_dates.loc[column,'last_date'] = last_date"
   ]
  },
  {
   "cell_type": "code",
   "execution_count": 135,
   "id": "57d224ae",
   "metadata": {},
   "outputs": [
    {
     "data": {
      "application/vnd.microsoft.datawrangler.viewer.v0+json": {
       "columns": [
        {
         "name": "index",
         "rawType": "object",
         "type": "string"
        },
        {
         "name": "first_idx",
         "rawType": "int64",
         "type": "integer"
        },
        {
         "name": "first_date",
         "rawType": "datetime64[ns]",
         "type": "datetime"
        },
        {
         "name": "last_date",
         "rawType": "datetime64[ns]",
         "type": "datetime"
        }
       ],
       "conversionMethod": "pd.DataFrame",
       "ref": "a874b6dc-658b-4a41-adbc-f37ac74962f4",
       "rows": [
        [
         "ID",
         "197",
         null,
         null
        ],
        [
         "DATE",
         "197",
         null,
         null
        ],
        [
         "market_cap",
         "198",
         "2014-01-31 00:00:00",
         "2025-02-28 00:00:00"
        ],
        [
         "stock_return",
         "198",
         "2014-01-31 00:00:00",
         "2025-02-28 00:00:00"
        ],
        [
         "beta",
         "222",
         "2016-01-31 00:00:00",
         "2025-02-28 00:00:00"
        ],
        [
         "volatility",
         "222",
         "2016-01-31 00:00:00",
         "2025-02-28 00:00:00"
        ],
        [
         "avg_volm_to_cap",
         "221",
         "2015-12-31 00:00:00",
         "2025-02-28 00:00:00"
        ],
        [
         "volume_trend",
         "221",
         "2015-12-31 00:00:00",
         "2025-02-28 00:00:00"
        ],
        [
         "residual_variance",
         "222",
         "2016-01-31 00:00:00",
         "2025-02-28 00:00:00"
        ],
        [
         "stock_return_1m",
         "199",
         "2014-02-28 00:00:00",
         "2025-02-28 00:00:00"
        ],
        [
         "rs_1m",
         "199",
         "2014-02-28 00:00:00",
         "2025-02-28 00:00:00"
        ],
        [
         "stock_return_2m",
         "200",
         "2014-03-31 00:00:00",
         "2025-02-28 00:00:00"
        ],
        [
         "rs_2m",
         "200",
         "2014-03-31 00:00:00",
         "2025-02-28 00:00:00"
        ],
        [
         "stock_return_3m",
         "201",
         "2014-04-30 00:00:00",
         "2025-02-28 00:00:00"
        ],
        [
         "rs_3m",
         "201",
         "2014-04-30 00:00:00",
         "2025-02-28 00:00:00"
        ],
        [
         "stock_return_6m",
         "204",
         "2014-07-31 00:00:00",
         "2025-02-28 00:00:00"
        ],
        [
         "rs_6m",
         "204",
         "2014-07-31 00:00:00",
         "2025-02-28 00:00:00"
        ],
        [
         "stock_return_12m",
         "210",
         "2015-01-31 00:00:00",
         "2025-02-28 00:00:00"
        ],
        [
         "rs_12m",
         "210",
         "2015-01-31 00:00:00",
         "2025-02-28 00:00:00"
        ],
        [
         "3mrs_3mago",
         "204",
         "2014-07-31 00:00:00",
         "2025-02-28 00:00:00"
        ],
        [
         "3mrs_6mago",
         "207",
         "2014-10-31 00:00:00",
         "2025-02-28 00:00:00"
        ],
        [
         "3mrs_9mago",
         "210",
         "2015-01-31 00:00:00",
         "2025-02-28 00:00:00"
        ]
       ],
       "shape": {
        "columns": 3,
        "rows": 22
       }
      },
      "text/html": [
       "<div>\n",
       "<style scoped>\n",
       "    .dataframe tbody tr th:only-of-type {\n",
       "        vertical-align: middle;\n",
       "    }\n",
       "\n",
       "    .dataframe tbody tr th {\n",
       "        vertical-align: top;\n",
       "    }\n",
       "\n",
       "    .dataframe thead th {\n",
       "        text-align: right;\n",
       "    }\n",
       "</style>\n",
       "<table border=\"1\" class=\"dataframe\">\n",
       "  <thead>\n",
       "    <tr style=\"text-align: right;\">\n",
       "      <th></th>\n",
       "      <th>first_idx</th>\n",
       "      <th>first_date</th>\n",
       "      <th>last_date</th>\n",
       "    </tr>\n",
       "  </thead>\n",
       "  <tbody>\n",
       "    <tr>\n",
       "      <th>ID</th>\n",
       "      <td>197</td>\n",
       "      <td>NaT</td>\n",
       "      <td>NaT</td>\n",
       "    </tr>\n",
       "    <tr>\n",
       "      <th>DATE</th>\n",
       "      <td>197</td>\n",
       "      <td>NaT</td>\n",
       "      <td>NaT</td>\n",
       "    </tr>\n",
       "    <tr>\n",
       "      <th>market_cap</th>\n",
       "      <td>198</td>\n",
       "      <td>2014-01-31</td>\n",
       "      <td>2025-02-28</td>\n",
       "    </tr>\n",
       "    <tr>\n",
       "      <th>stock_return</th>\n",
       "      <td>198</td>\n",
       "      <td>2014-01-31</td>\n",
       "      <td>2025-02-28</td>\n",
       "    </tr>\n",
       "    <tr>\n",
       "      <th>beta</th>\n",
       "      <td>222</td>\n",
       "      <td>2016-01-31</td>\n",
       "      <td>2025-02-28</td>\n",
       "    </tr>\n",
       "    <tr>\n",
       "      <th>volatility</th>\n",
       "      <td>222</td>\n",
       "      <td>2016-01-31</td>\n",
       "      <td>2025-02-28</td>\n",
       "    </tr>\n",
       "    <tr>\n",
       "      <th>avg_volm_to_cap</th>\n",
       "      <td>221</td>\n",
       "      <td>2015-12-31</td>\n",
       "      <td>2025-02-28</td>\n",
       "    </tr>\n",
       "    <tr>\n",
       "      <th>volume_trend</th>\n",
       "      <td>221</td>\n",
       "      <td>2015-12-31</td>\n",
       "      <td>2025-02-28</td>\n",
       "    </tr>\n",
       "    <tr>\n",
       "      <th>residual_variance</th>\n",
       "      <td>222</td>\n",
       "      <td>2016-01-31</td>\n",
       "      <td>2025-02-28</td>\n",
       "    </tr>\n",
       "    <tr>\n",
       "      <th>stock_return_1m</th>\n",
       "      <td>199</td>\n",
       "      <td>2014-02-28</td>\n",
       "      <td>2025-02-28</td>\n",
       "    </tr>\n",
       "    <tr>\n",
       "      <th>rs_1m</th>\n",
       "      <td>199</td>\n",
       "      <td>2014-02-28</td>\n",
       "      <td>2025-02-28</td>\n",
       "    </tr>\n",
       "    <tr>\n",
       "      <th>stock_return_2m</th>\n",
       "      <td>200</td>\n",
       "      <td>2014-03-31</td>\n",
       "      <td>2025-02-28</td>\n",
       "    </tr>\n",
       "    <tr>\n",
       "      <th>rs_2m</th>\n",
       "      <td>200</td>\n",
       "      <td>2014-03-31</td>\n",
       "      <td>2025-02-28</td>\n",
       "    </tr>\n",
       "    <tr>\n",
       "      <th>stock_return_3m</th>\n",
       "      <td>201</td>\n",
       "      <td>2014-04-30</td>\n",
       "      <td>2025-02-28</td>\n",
       "    </tr>\n",
       "    <tr>\n",
       "      <th>rs_3m</th>\n",
       "      <td>201</td>\n",
       "      <td>2014-04-30</td>\n",
       "      <td>2025-02-28</td>\n",
       "    </tr>\n",
       "    <tr>\n",
       "      <th>stock_return_6m</th>\n",
       "      <td>204</td>\n",
       "      <td>2014-07-31</td>\n",
       "      <td>2025-02-28</td>\n",
       "    </tr>\n",
       "    <tr>\n",
       "      <th>rs_6m</th>\n",
       "      <td>204</td>\n",
       "      <td>2014-07-31</td>\n",
       "      <td>2025-02-28</td>\n",
       "    </tr>\n",
       "    <tr>\n",
       "      <th>stock_return_12m</th>\n",
       "      <td>210</td>\n",
       "      <td>2015-01-31</td>\n",
       "      <td>2025-02-28</td>\n",
       "    </tr>\n",
       "    <tr>\n",
       "      <th>rs_12m</th>\n",
       "      <td>210</td>\n",
       "      <td>2015-01-31</td>\n",
       "      <td>2025-02-28</td>\n",
       "    </tr>\n",
       "    <tr>\n",
       "      <th>3mrs_3mago</th>\n",
       "      <td>204</td>\n",
       "      <td>2014-07-31</td>\n",
       "      <td>2025-02-28</td>\n",
       "    </tr>\n",
       "    <tr>\n",
       "      <th>3mrs_6mago</th>\n",
       "      <td>207</td>\n",
       "      <td>2014-10-31</td>\n",
       "      <td>2025-02-28</td>\n",
       "    </tr>\n",
       "    <tr>\n",
       "      <th>3mrs_9mago</th>\n",
       "      <td>210</td>\n",
       "      <td>2015-01-31</td>\n",
       "      <td>2025-02-28</td>\n",
       "    </tr>\n",
       "  </tbody>\n",
       "</table>\n",
       "</div>"
      ],
      "text/plain": [
       "                   first_idx first_date  last_date\n",
       "ID                       197        NaT        NaT\n",
       "DATE                     197        NaT        NaT\n",
       "market_cap               198 2014-01-31 2025-02-28\n",
       "stock_return             198 2014-01-31 2025-02-28\n",
       "beta                     222 2016-01-31 2025-02-28\n",
       "volatility               222 2016-01-31 2025-02-28\n",
       "avg_volm_to_cap          221 2015-12-31 2025-02-28\n",
       "volume_trend             221 2015-12-31 2025-02-28\n",
       "residual_variance        222 2016-01-31 2025-02-28\n",
       "stock_return_1m          199 2014-02-28 2025-02-28\n",
       "rs_1m                    199 2014-02-28 2025-02-28\n",
       "stock_return_2m          200 2014-03-31 2025-02-28\n",
       "rs_2m                    200 2014-03-31 2025-02-28\n",
       "stock_return_3m          201 2014-04-30 2025-02-28\n",
       "rs_3m                    201 2014-04-30 2025-02-28\n",
       "stock_return_6m          204 2014-07-31 2025-02-28\n",
       "rs_6m                    204 2014-07-31 2025-02-28\n",
       "stock_return_12m         210 2015-01-31 2025-02-28\n",
       "rs_12m                   210 2015-01-31 2025-02-28\n",
       "3mrs_3mago               204 2014-07-31 2025-02-28\n",
       "3mrs_6mago               207 2014-10-31 2025-02-28\n",
       "3mrs_9mago               210 2015-01-31 2025-02-28"
      ]
     },
     "execution_count": 135,
     "metadata": {},
     "output_type": "execute_result"
    }
   ],
   "source": [
    "first_dates"
   ]
  },
  {
   "cell_type": "code",
   "execution_count": 136,
   "id": "19ded34b",
   "metadata": {},
   "outputs": [
    {
     "name": "stdout",
     "output_type": "stream",
     "text": [
      "<class 'pandas.core.frame.DataFrame'>\n",
      "Index: 194138 entries, 197 to 194137\n",
      "Data columns (total 22 columns):\n",
      " #   Column             Non-Null Count   Dtype         \n",
      "---  ------             --------------   -----         \n",
      " 0   ID                 194138 non-null  object        \n",
      " 1   DATE               194138 non-null  datetime64[ns]\n",
      " 2   market_cap         191383 non-null  float64       \n",
      " 3   stock_return       192221 non-null  float64       \n",
      " 4   beta               147090 non-null  float64       \n",
      " 5   volatility         147090 non-null  float64       \n",
      " 6   avg_volm_to_cap    148231 non-null  float64       \n",
      " 7   volume_trend       148930 non-null  float64       \n",
      " 8   residual_variance  147090 non-null  float64       \n",
      " 9   stock_return_1m    190304 non-null  float64       \n",
      " 10  rs_1m              190304 non-null  float64       \n",
      " 11  stock_return_2m    188387 non-null  float64       \n",
      " 12  rs_2m              188387 non-null  float64       \n",
      " 13  stock_return_3m    186471 non-null  float64       \n",
      " 14  rs_3m              186471 non-null  float64       \n",
      " 15  stock_return_6m    180742 non-null  float64       \n",
      " 16  rs_6m              180742 non-null  float64       \n",
      " 17  stock_return_12m   169387 non-null  float64       \n",
      " 18  rs_12m             169387 non-null  float64       \n",
      " 19  3mrs_3mago         180742 non-null  float64       \n",
      " 20  3mrs_6mago         175046 non-null  float64       \n",
      " 21  3mrs_9mago         169387 non-null  float64       \n",
      "dtypes: datetime64[ns](1), float64(20), object(1)\n",
      "memory usage: 34.1+ MB\n"
     ]
    }
   ],
   "source": [
    "df.info()"
   ]
  },
  {
   "cell_type": "code",
   "execution_count": 137,
   "id": "2e3c2dd1",
   "metadata": {},
   "outputs": [],
   "source": [
    "fdf = df.set_index(['ID','DATE'])"
   ]
  },
  {
   "cell_type": "code",
   "execution_count": 138,
   "id": "48648934",
   "metadata": {},
   "outputs": [
    {
     "name": "stdout",
     "output_type": "stream",
     "text": [
      "<class 'pandas.core.frame.DataFrame'>\n",
      "MultiIndex: 194138 entries, ('AAOI UQ Equity', Timestamp('2013-12-31 00:00:00')) to ('ZYXI UW Equity', Timestamp('2025-02-28 00:00:00'))\n",
      "Data columns (total 20 columns):\n",
      " #   Column             Non-Null Count   Dtype  \n",
      "---  ------             --------------   -----  \n",
      " 0   market_cap         191383 non-null  float64\n",
      " 1   stock_return       192221 non-null  float64\n",
      " 2   beta               147090 non-null  float64\n",
      " 3   volatility         147090 non-null  float64\n",
      " 4   avg_volm_to_cap    148231 non-null  float64\n",
      " 5   volume_trend       148930 non-null  float64\n",
      " 6   residual_variance  147090 non-null  float64\n",
      " 7   stock_return_1m    190304 non-null  float64\n",
      " 8   rs_1m              190304 non-null  float64\n",
      " 9   stock_return_2m    188387 non-null  float64\n",
      " 10  rs_2m              188387 non-null  float64\n",
      " 11  stock_return_3m    186471 non-null  float64\n",
      " 12  rs_3m              186471 non-null  float64\n",
      " 13  stock_return_6m    180742 non-null  float64\n",
      " 14  rs_6m              180742 non-null  float64\n",
      " 15  stock_return_12m   169387 non-null  float64\n",
      " 16  rs_12m             169387 non-null  float64\n",
      " 17  3mrs_3mago         180742 non-null  float64\n",
      " 18  3mrs_6mago         175046 non-null  float64\n",
      " 19  3mrs_9mago         169387 non-null  float64\n",
      "dtypes: float64(20)\n",
      "memory usage: 30.4+ MB\n"
     ]
    }
   ],
   "source": [
    "fdf.info()"
   ]
  },
  {
   "cell_type": "code",
   "execution_count": 139,
   "id": "601d76b4",
   "metadata": {},
   "outputs": [],
   "source": [
    "idx = pd.IndexSlice\n",
    "cutoff_date = '2015-12-31'\n",
    "fdf = fdf[fdf.index.get_level_values('DATE') > cutoff_date]"
   ]
  },
  {
   "cell_type": "code",
   "execution_count": 140,
   "id": "9a2a7a63-c260-4f25-bdd1-a6ee8583bbd0",
   "metadata": {},
   "outputs": [],
   "source": [
    "fdf[value_columns] = fdf.groupby('DATE')[value_columns].transform(lambda x: x.fillna(x.mean()))"
   ]
  },
  {
   "cell_type": "code",
   "execution_count": 141,
   "id": "d52e0779",
   "metadata": {},
   "outputs": [],
   "source": [
    "Ycols = value_columns.difference(['stock_return'])"
   ]
  },
  {
   "cell_type": "code",
   "execution_count": 142,
   "id": "8a5663d4-3835-4568-a76b-c85dbcf97f55",
   "metadata": {},
   "outputs": [],
   "source": [
    "from scipy.stats.mstats import winsorize\n",
    "from scipy.stats import zscore\n",
    "\n",
    "# df[numcols] = df[numcols].groupby('ITERATION_DATE').transform(lambda x: winsorize(x, limits = (0.01,0.01)))\n",
    "fdf[Ycols] = fdf[Ycols].groupby('DATE').transform(lambda x: zscore(x).clip(-3,3))"
   ]
  },
  {
   "cell_type": "code",
   "execution_count": 143,
   "id": "34316bab",
   "metadata": {},
   "outputs": [],
   "source": [
    "def cross_sectional_regression(df, dependent_var, independent_vars, reg_type='OLS', alpha=1.0):\n",
    "    \"\"\"\n",
    "    Performs regression in parallel for each group using joblib, with options for OLS, Ridge, and Lasso.\n",
    "    Returns np.nan for coefficients when X or y contains NaN values.\n",
    "\n",
    "    Args:\n",
    "        df: Pandas DataFrame containing the data with columns ID, DATE, and other variables\n",
    "        dependent_var: Name of the dependent variable column\n",
    "        independent_vars: List of names of independent variable columns\n",
    "        reg_type: Type of regression to perform ('OLS', 'Ridge', 'Lasso'). Default is 'OLS'\n",
    "        alpha: Regularization strength for Ridge and Lasso. Default is 1.0\n",
    "\n",
    "    Returns:\n",
    "        Pandas DataFrame with the regression coefficients for each ID and DATE\n",
    "    \"\"\"\n",
    "    from sklearn.linear_model import LinearRegression, Ridge, Lasso\n",
    "    from joblib import Parallel, delayed\n",
    "    import numpy as np\n",
    "    import pandas as pd\n",
    "    \n",
    "    def _regress_group(group_data):\n",
    "        X = group_data[independent_vars].values\n",
    "        y = group_data[dependent_var].values.reshape(-1,1)\n",
    "        \n",
    "        # Return NaN coefficients if data contains NaN\n",
    "        if np.any(np.isnan(X)) or np.any(np.isnan(y)):\n",
    "            return pd.Series({\n",
    "                'DATE': group_data['DATE'].iloc[0],\n",
    "                'intercept': np.nan,\n",
    "                **dict(zip(independent_vars, [np.nan] * len(independent_vars)))\n",
    "            })\n",
    "            \n",
    "        if reg_type.upper() == 'OLS':\n",
    "            model = LinearRegression()\n",
    "        elif reg_type.upper() == 'RIDGE':\n",
    "            model = Ridge(alpha=alpha)\n",
    "        elif reg_type.upper() == 'LASSO':\n",
    "            model = Lasso(alpha=alpha)\n",
    "        else:\n",
    "            raise ValueError(\"Invalid reg_type. Choose 'OLS', 'Ridge', or 'Lasso'.\")\n",
    "            \n",
    "        model.fit(X, y)\n",
    "        coefs = model.coef_.flatten()\n",
    "        intercept = model.intercept_\n",
    "        \n",
    "        return pd.Series({\n",
    "            'DATE': group_data['DATE'].iloc[0],\n",
    "            'intercept': intercept[0] if isinstance(intercept, np.ndarray) else intercept,\n",
    "            **dict(zip(independent_vars, coefs))\n",
    "        })\n",
    "    \n",
    "    # Group by DATE and perform regression\n",
    "    results = Parallel(n_jobs=-1)(\n",
    "        delayed(_regress_group)(group) \n",
    "        for _, group in df.groupby('DATE')\n",
    "    )\n",
    "    \n",
    "    # Convert results to DataFrame\n",
    "    results_df = pd.DataFrame(results)\n",
    "    results_df = results_df.set_index('DATE')\n",
    "    \n",
    "    return results_df\n",
    "\n",
    "# Let's create an example to demonstrate the usage"
   ]
  },
  {
   "cell_type": "code",
   "execution_count": 144,
   "id": "efe6bbe9",
   "metadata": {},
   "outputs": [],
   "source": [
    "fdf = fdf.reset_index()"
   ]
  },
  {
   "cell_type": "code",
   "execution_count": 145,
   "id": "be544947",
   "metadata": {},
   "outputs": [],
   "source": [
    "betas = cross_sectional_regression(fdf, dependent_var='stock_return', independent_vars=Ycols)"
   ]
  },
  {
   "cell_type": "code",
   "execution_count": 146,
   "id": "f42183ec",
   "metadata": {},
   "outputs": [],
   "source": [
    "betas = betas.rolling(12).mean()\n",
    "betas = betas.reset_index().set_index('DATE')\n",
    "betas.index = pd.to_datetime(betas.index)"
   ]
  },
  {
   "cell_type": "code",
   "execution_count": 147,
   "id": "d6e83783",
   "metadata": {},
   "outputs": [],
   "source": [
    "betas_shifted = pd.concat([\n",
    "    betas.shift(1),\n",
    "    pd.DataFrame([betas.iloc[-1]], index=[betas.index[-1] + pd.offsets.MonthEnd(1)])\n",
    "])\n",
    "betas_shifted.index.name = 'DATE'"
   ]
  },
  {
   "cell_type": "code",
   "execution_count": 148,
   "id": "ea5a62dc",
   "metadata": {},
   "outputs": [],
   "source": [
    "# for manual confirmation \n",
    "betas_shifted[list(Ycols) + ['intercept']].to_csv('betas.csv')\n",
    "fdf[['ID','DATE'] + list(Ycols)].to_csv('fdf.csv')"
   ]
  },
  {
   "cell_type": "code",
   "execution_count": 149,
   "id": "5697d282",
   "metadata": {},
   "outputs": [],
   "source": [
    "fdf = fdf.set_index(['ID','DATE'])"
   ]
  },
  {
   "cell_type": "code",
   "execution_count": 153,
   "id": "50aac7cd",
   "metadata": {},
   "outputs": [],
   "source": [
    "yfit = fdf[Ycols].assign(intercept = 1).mul(betas_shifted, level = 'DATE').sum(axis = 1).rename('exp_ret').to_frame()"
   ]
  },
  {
   "cell_type": "code",
   "execution_count": 155,
   "id": "77d29fc9",
   "metadata": {},
   "outputs": [],
   "source": [
    "yfit['quantile'] = yfit.groupby('DATE', group_keys = False)['exp_ret'].apply(lambda x: pd.cut(x, 10, labels = False)).rename('quantile')"
   ]
  },
  {
   "cell_type": "code",
   "execution_count": null,
   "id": "890af196",
   "metadata": {},
   "outputs": [],
   "source": [
    "# using stats as of date \n",
    "# Dec 1st stats (shifted) with Dec end returns gives Dec beta. \n",
    "# avearge of Jan to Dec betas gives Dec average beta \n",
    "# Dec beta with Dec returns gives dec ranks "
   ]
  },
  {
   "cell_type": "code",
   "execution_count": 156,
   "id": "4afefd34",
   "metadata": {},
   "outputs": [],
   "source": [
    "yfit = yfit.merge(fdf[['stock_return']], left_index = True, right_index = True)"
   ]
  },
  {
   "cell_type": "code",
   "execution_count": null,
   "id": "c9ee8d7a",
   "metadata": {},
   "outputs": [],
   "source": [
    "# this is ignoring a lot of the features, but need this for now to proceed with just model fitting \n",
    "# goal is daily data, \n"
   ]
  },
  {
   "cell_type": "code",
   "execution_count": 161,
   "id": "0d4674e4",
   "metadata": {},
   "outputs": [],
   "source": [
    "yfit_clean = yfit[yfit.index.get_level_values('DATE')> pd.Timestamp('2016-12-31')]"
   ]
  },
  {
   "cell_type": "code",
   "execution_count": null,
   "id": "b29b4750-cdb5-467e-b490-a51d8edb1c1c",
   "metadata": {},
   "outputs": [],
   "source": [
    "yfit_clean.to_csv('../../bbgfactor/rty_2014_smallfeatures.csv')"
   ]
  },
  {
   "cell_type": "code",
   "execution_count": null,
   "id": "f7a15e34",
   "metadata": {},
   "outputs": [],
   "source": [
    "# what output do we need?\n",
    "# 1. betas \n",
    "# 2. tstats\n",
    "# 3. ranks and realized returns for decile testing => goes to rank backtester \n",
    "# 4. current portfolio \n",
    "# 5. can redo ranks based on combining top betas differently \n"
   ]
  },
  {
   "cell_type": "code",
   "execution_count": null,
   "id": "c7084bf4",
   "metadata": {},
   "outputs": [],
   "source": []
  },
  {
   "cell_type": "code",
   "execution_count": null,
   "id": "dcdd3ef5",
   "metadata": {},
   "outputs": [],
   "source": []
  }
 ],
 "metadata": {
  "kernelspec": {
   "display_name": "py311",
   "language": "python",
   "name": "python3"
  },
  "language_info": {
   "codemirror_mode": {
    "name": "ipython",
    "version": 3
   },
   "file_extension": ".py",
   "mimetype": "text/x-python",
   "name": "python",
   "nbconvert_exporter": "python",
   "pygments_lexer": "ipython3",
   "version": "3.11.4"
  }
 },
 "nbformat": 4,
 "nbformat_minor": 5
}
